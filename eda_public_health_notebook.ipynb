{
 "cells": [
  {
   "cell_type": "markdown",
   "id": "c1d36438",
   "metadata": {},
   "source": [
    "# Exploring Health Risk Factors in Simulated Patient Data\n",
    "**Author:** Allie Skinner  \n",
    "**Description:** An exploratory data analysis (EDA) on patient demographics, BMI, blood pressure, and diabetes risk using a fictional public health dataset."
   ]
  },
  {
   "cell_type": "code",
   "execution_count": null,
   "id": "f5894907",
   "metadata": {},
   "outputs": [],
   "source": [
    "import pandas as pd\n",
    "import matplotlib.pyplot as plt\n",
    "import seaborn as sns\n",
    "\n",
    "# Load the dataset\n",
    "df = pd.read_csv('sample_public_health_data.csv')\n",
    "df.head()"
   ]
  },
  {
   "cell_type": "markdown",
   "id": "0add2484",
   "metadata": {},
   "source": [
    "## Basic Data Overview"
   ]
  },
  {
   "cell_type": "code",
   "execution_count": null,
   "id": "7b8cf58a",
   "metadata": {},
   "outputs": [],
   "source": [
    "df.info()\n",
    "df.describe()\n",
    "df['Sex'].value_counts()\n",
    "df['Smoker'].value_counts()\n",
    "df['Has_Diabetes'].value_counts()"
   ]
  },
  {
   "cell_type": "markdown",
   "id": "7fcd9bdd",
   "metadata": {},
   "source": [
    "## Visual Explorations"
   ]
  },
  {
   "cell_type": "code",
   "execution_count": null,
   "id": "daafe9bb",
   "metadata": {},
   "outputs": [],
   "source": [
    "# Distribution of BMI\n",
    "sns.histplot(df['BMI'], kde=True)\n",
    "plt.title('Distribution of BMI')\n",
    "plt.show()"
   ]
  },
  {
   "cell_type": "code",
   "execution_count": null,
   "id": "012970e5",
   "metadata": {},
   "outputs": [],
   "source": [
    "# Diabetes prevalence by sex\n",
    "sns.countplot(x='Sex', hue='Has_Diabetes', data=df)\n",
    "plt.title('Diabetes by Sex')\n",
    "plt.show()"
   ]
  },
  {
   "cell_type": "code",
   "execution_count": null,
   "id": "a6fb45a9",
   "metadata": {},
   "outputs": [],
   "source": [
    "# Smoking vs diabetes\n",
    "sns.countplot(x='Smoker', hue='Has_Diabetes', data=df)\n",
    "plt.title('Diabetes by Smoking Status')\n",
    "plt.show()"
   ]
  },
  {
   "cell_type": "code",
   "execution_count": null,
   "id": "9451e933",
   "metadata": {},
   "outputs": [],
   "source": [
    "# Correlation heatmap\n",
    "sns.heatmap(df.corr(numeric_only=True), annot=True, cmap='coolwarm')\n",
    "plt.title('Correlation Between Numeric Features')\n",
    "plt.show()"
   ]
  },
  {
   "cell_type": "markdown",
   "id": "7016fa18",
   "metadata": {},
   "source": [
    "## Key Takeaways\n",
    "- Most patients are non-smokers, but smokers appear to have slightly higher diabetes rates.  \n",
    "- BMI and age are positively correlated with diabetes risk.  \n",
    "- No major sex difference in diabetes prevalence in this small dataset."
   ]
  },
  {
   "cell_type": "markdown",
   "id": "dca47d91",
   "metadata": {},
   "source": [
    "## Next Steps\n",
    "- Build a logistic regression model to predict diabetes.  \n",
    "- Explore interaction effects between variables (e.g., Age + Smoking).  \n",
    "- Expand this dataset or find similar open health data for comparison."
   ]
  }
 ],
 "metadata": {},
 "nbformat": 4,
 "nbformat_minor": 5
}
